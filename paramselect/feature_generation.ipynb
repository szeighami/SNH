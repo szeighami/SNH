{
 "cells": [
  {
   "cell_type": "code",
   "execution_count": 1,
   "metadata": {},
   "outputs": [],
   "source": [
    "import matplotlib.pyplot as plt\n",
    "import os\n",
    "import time\n",
    "import pandas as pd\n",
    "import numpy as np\n",
    "class bounding_box:\n",
    "    def __init__(self, _lat_min, _lon_min,_lat_max,_lon_max, _name=None):\n",
    "        self.lat_min = _lat_min\n",
    "        self.lon_min = _lon_min\n",
    "        self.lat_max = _lat_max\n",
    "        self.lon_max = _lon_max\n",
    "        self.name = _name"
   ]
  },
  {
   "cell_type": "code",
   "execution_count": 20,
   "metadata": {},
   "outputs": [
    {
     "data": {
      "text/html": [
       "<div>\n",
       "<style scoped>\n",
       "    .dataframe tbody tr th:only-of-type {\n",
       "        vertical-align: middle;\n",
       "    }\n",
       "\n",
       "    .dataframe tbody tr th {\n",
       "        vertical-align: top;\n",
       "    }\n",
       "\n",
       "    .dataframe thead th {\n",
       "        text-align: right;\n",
       "    }\n",
       "</style>\n",
       "<table border=\"1\" class=\"dataframe\">\n",
       "  <thead>\n",
       "    <tr style=\"text-align: right;\">\n",
       "      <th></th>\n",
       "      <th>uid</th>\n",
       "      <th>latitude</th>\n",
       "      <th>longitude</th>\n",
       "      <th>pid</th>\n",
       "      <th>date</th>\n",
       "      <th>time</th>\n",
       "    </tr>\n",
       "  </thead>\n",
       "  <tbody>\n",
       "    <tr>\n",
       "      <th>0</th>\n",
       "      <td>36606</td>\n",
       "      <td>32.924213</td>\n",
       "      <td>-96.795741</td>\n",
       "      <td>3338530</td>\n",
       "      <td>2010-10-21</td>\n",
       "      <td>13:53:26.000</td>\n",
       "    </tr>\n",
       "    <tr>\n",
       "      <th>1</th>\n",
       "      <td>36606</td>\n",
       "      <td>32.909843</td>\n",
       "      <td>-96.805520</td>\n",
       "      <td>78273</td>\n",
       "      <td>2010-10-20</td>\n",
       "      <td>17:42:31.000</td>\n",
       "    </tr>\n",
       "    <tr>\n",
       "      <th>2</th>\n",
       "      <td>36606</td>\n",
       "      <td>32.924213</td>\n",
       "      <td>-96.795741</td>\n",
       "      <td>3338530</td>\n",
       "      <td>2010-10-20</td>\n",
       "      <td>13:50:51.000</td>\n",
       "    </tr>\n",
       "    <tr>\n",
       "      <th>3</th>\n",
       "      <td>36606</td>\n",
       "      <td>32.793329</td>\n",
       "      <td>-96.779209</td>\n",
       "      <td>2336788</td>\n",
       "      <td>2010-10-20</td>\n",
       "      <td>03:30:45.000</td>\n",
       "    </tr>\n",
       "    <tr>\n",
       "      <th>4</th>\n",
       "      <td>36606</td>\n",
       "      <td>32.794833</td>\n",
       "      <td>-96.780163</td>\n",
       "      <td>67600</td>\n",
       "      <td>2010-10-20</td>\n",
       "      <td>03:30:36.000</td>\n",
       "    </tr>\n",
       "  </tbody>\n",
       "</table>\n",
       "</div>"
      ],
      "text/plain": [
       "     uid   latitude  longitude      pid        date          time\n",
       "0  36606  32.924213 -96.795741  3338530  2010-10-21  13:53:26.000\n",
       "1  36606  32.909843 -96.805520    78273  2010-10-20  17:42:31.000\n",
       "2  36606  32.924213 -96.795741  3338530  2010-10-20  13:50:51.000\n",
       "3  36606  32.793329 -96.779209  2336788  2010-10-20  03:30:45.000\n",
       "4  36606  32.794833 -96.780163    67600  2010-10-20  03:30:36.000"
      ]
     },
     "execution_count": 20,
     "metadata": {},
     "output_type": "execute_result"
    }
   ],
   "source": [
    "# read the SNAP gowalla dataset\n",
    "gowalla_df = pd.read_csv(\"data/gowalla_checkins.txt\", delimiter=' ', header=0, names = ['uid','latitude','longitude','pid','date','time'])"
   ]
  },
  {
   "cell_type": "code",
   "execution_count": 21,
   "metadata": {},
   "outputs": [],
   "source": [
    "#NY_downtown Salt_lake_downtown Cook_downtown Harris_downtown Miami_downtown LA_downtown SF\n",
    "NY = bounding_box(40.69985199, -74.02004242, 40.80183029, -73.9427948 , \"NY\") \n",
    "Salt_lake = bounding_box(40.67640305, -112.00101471, 40.78819656, -111.85135651, \"Salt_lake\") \n",
    "Cook = bounding_box(41.82378006, -87.77555084,41.93557358, -87.62589264, \"Cook\") \n",
    "Harris = bounding_box(29.69077682, -95.43946075,29.80257225, -95.28980255, \"Harris\")  \n",
    "Miami = bounding_box(25.74535751, -80.33049774,25.85715294, -80.18083954, \"Miami\") \n",
    "LA = bounding_box(33.96725082, -118.36177063,34.07904434, -118.21211243, \"LA\") \n",
    "SF = bounding_box(37.7079277 , -122.50764465,37.81974792, -122.35796356, \"SF\") \n",
    "Tulsa = bounding_box(36.09810257, -96.06762695, 36.20989609, -95.91796875, 'Tulsa')\n",
    "Milwaukee = bounding_box(42.98300171, -87.98133087, 43.09479523, -87.84003448, 'Milwaukee')\n",
    "Fargo = bounding_box(46.82130432, -96.86463165, 46.9330864, -96.71497345, 'Fargo') \n",
    "Boston = bounding_box(42.24830246, -71.20856476, 42.47189713, -70.90927887, 'Boston') \n",
    "Kansas_city = bounding_box(39.03318024, -94.6626358, 39.14497375, -94.5129776, 'Kansas_city') \n",
    "Phoenix = bounding_box(33.39250183, -112.1488266, 33.50429535, -111.9991684, 'Phoenix') \n",
    "\n",
    "bboxes = [NY, Salt_lake, Cook, Harris, Miami, LA, SF, Tulsa, Milwaukee, Fargo, Boston,Kansas_city, Phoenix]"
   ]
  },
  {
   "cell_type": "code",
   "execution_count": 22,
   "metadata": {},
   "outputs": [
    {
     "name": "stdout",
     "output_type": "stream",
     "text": [
      "NY 40.75084114 -73.98141860999999\n",
      "Salt_lake 40.732299805 -111.92618561\n",
      "Cook 41.87967682 -87.70072174\n",
      "Harris 29.746674535 -95.36463165\n",
      "Miami 25.801255225 -80.25566864\n",
      "LA 34.02314758 -118.28694153000001\n",
      "SF 37.76383781 -122.432804105\n",
      "Tulsa 36.153999330000005 -95.99279785\n",
      "Milwaukee 43.03889847000001 -87.910682675\n",
      "Fargo 46.87719536 -96.78980255\n",
      "Boston 42.360099795 -71.05892181499999\n",
      "Kansas_city 39.089076995 -94.5878067\n",
      "Phoenix 33.44839859 -112.0739975\n"
     ]
    }
   ],
   "source": [
    "for bbox in bboxes:\n",
    "    print( bbox.name,  (bbox.lat_min + bbox.lat_max)/2, (bbox.lon_min + bbox.lon_max)/2 )"
   ]
  },
  {
   "cell_type": "code",
   "execution_count": 23,
   "metadata": {},
   "outputs": [
    {
     "name": "stdout",
     "output_type": "stream",
     "text": [
      "NY\n",
      "Salt_lake\n",
      "Cook\n",
      "Harris\n",
      "Miami\n",
      "LA\n",
      "SF\n",
      "Tulsa\n",
      "Milwaukee\n",
      "Fargo\n",
      "Boston\n",
      "Kansas_city\n",
      "Phoenix\n"
     ]
    }
   ],
   "source": [
    "for bbox in bboxes:\n",
    "    df = gowalla_df[(gowalla_df['latitude'] > bbox.lat_min) & (gowalla_df['latitude'] < bbox.lat_max) & (gowalla_df['longitude'] > bbox.lon_min) & (gowalla_df['longitude'] < bbox.lon_max)]\n",
    "    df.to_csv('gowalla'+bbox.name, index=False)\n",
    "    print(bbox.name)"
   ]
  },
  {
   "cell_type": "markdown",
   "metadata": {},
   "source": [
    "## Various ideas to capture distribution of datasets from public POI data\n",
    "\n",
    "#### entropy profile\n",
    "Compute entropy over 2d hsitrograms of variaous binnings\n",
    "Evaluate whether they are different enough between cities.\n",
    "Example. Harris county has higher skewness (i.e. dense pockets) which require finer cells to capture the resolution.\n",
    "\n",
    "#### hot pockets\n",
    "Calculate the number of bins with atleast c points in it.\n",
    "Intuition is that it corresponds to the signal-to-noise ratio of DP. Essentially we can learn a relation between eps and the hotpockets at x threshold.\n",
    "\n",
    "#### Nearest how far\n",
    "Calcualte nearest neighbor distance for each point. \n",
    "Calculate average/median/skewness of these distances."
   ]
  },
  {
   "cell_type": "code",
   "execution_count": 24,
   "metadata": {},
   "outputs": [],
   "source": [
    "from scipy.stats import entropy\n",
    "from rtree import index"
   ]
  },
  {
   "cell_type": "code",
   "execution_count": 26,
   "metadata": {},
   "outputs": [
    {
     "name": "stdout",
     "output_type": "stream",
     "text": [
      "NY              \t 512 100538.0 \t 8.349732946613312\n",
      "Salt_lake       \t 512 6976.0 \t 5.874959424303732\n",
      "Cook            \t 512 24793.0 \t 7.3405223689656705\n",
      "Harris          \t 512 20653.0 \t 7.036337115173779\n",
      "Miami           \t 512 5372.0 \t 5.5973731049470095\n",
      "LA              \t 512 15265.0 \t 6.860816965068247\n",
      "SF              \t 512 149820.0 \t 7.79794281221878\n",
      "Tulsa           \t 512 4307.0 \t 5.792334496603348\n",
      "Milwaukee       \t 512 6231.0 \t 6.21496345770543\n",
      "Fargo           \t 512 270.0 \t 4.007187265076273\n",
      "Boston          \t 512 40299.0 \t 7.403692236311014\n",
      "Kansas_city     \t 512 15735.0 \t 6.171420523321162\n",
      "Phoenix         \t 512 6567.0 \t 4.833425784656036\n"
     ]
    }
   ],
   "source": [
    "# entropy profile\n",
    "for _bins in [512]:\n",
    "# for _bins in [64, 256, 512, 1024]:\n",
    "    for bbox in bboxes:\n",
    "        df = pd.read_csv('gowalla'+bbox.name)\n",
    "        H, xedges, yedges = np.histogram2d(df.iloc[:, 2].values, df.iloc[:, 3].values, bins=_bins)\n",
    "        x_probs = np.true_divide(H,np.sum(H)) # convert the histogram to probability\n",
    "        x_probs = x_probs.ravel()\n",
    "        ent = entropy(x_probs)\n",
    "        print(\"{0:<15}\".format(bbox.name), '\\t', _bins, np.sum(H),'\\t', ent)"
   ]
  },
  {
   "cell_type": "code",
   "execution_count": 35,
   "metadata": {},
   "outputs": [
    {
     "name": "stdout",
     "output_type": "stream",
     "text": [
      "Avg Noise: [10.]\n",
      "NY              \t 512 100538.0 \t 2382\n",
      "Salt_lake       \t 512 6976.0 \t 149\n",
      "Cook            \t 512 24793.0 \t 679\n",
      "Harris          \t 512 20653.0 \t 530\n",
      "Miami           \t 512 5372.0 \t 112\n",
      "LA              \t 512 15265.0 \t 355\n",
      "SF              \t 512 149820.0 \t 2771\n",
      "Tulsa           \t 512 4307.0 \t 106\n",
      "Milwaukee       \t 512 6231.0 \t 179\n",
      "Fargo           \t 512 270.0 \t 5\n",
      "Boston          \t 512 40299.0 \t 918\n",
      "Kansas_city     \t 512 15735.0 \t 364\n",
      "Phoenix         \t 512 6567.0 \t 122\n"
     ]
    }
   ],
   "source": [
    "# hot pockets vs avg noise (2/eps)\n",
    "eps = [0.2]\n",
    "avg_noise = 2.0/np.array(eps)\n",
    "print(\"Avg Noise:\", avg_noise)\n",
    "for _bins in [512]:\n",
    "    for bbox in bboxes:\n",
    "        df = pd.read_csv('gowalla'+bbox.name)\n",
    "        H, xedges, yedges = np.histogram2d(df.iloc[:, 2].values, df.iloc[:, 3].values, bins=_bins)\n",
    "        H = H.ravel()\n",
    "        hot = [] \n",
    "        for val in avg_noise:\n",
    "            hot.append((H >= val).sum())\n",
    "\n",
    "        print(\"{0:<15}\".format(bbox.name), '\\t', _bins, np.sum(H),'\\t', hot[0])"
   ]
  },
  {
   "cell_type": "code",
   "execution_count": 29,
   "metadata": {},
   "outputs": [],
   "source": [
    "import math\n",
    "def dist_in_kmeters(Lat1, Long1, Lat2, Long2):\n",
    "    x = Lat2 - Lat1\n",
    "    y = (Long2 - Long1) * math.cos((Lat2 + Lat1)*0.00872664626)  \n",
    "    return 111.319 * math.sqrt(x*x + y*y)"
   ]
  },
  {
   "cell_type": "code",
   "execution_count": 31,
   "metadata": {},
   "outputs": [
    {
     "name": "stdout",
     "output_type": "stream",
     "text": [
      "NY              \t 13691569.787143717 \t 0\n",
      "Salt_lake       \t 13778944.697372658 \t 0\n",
      "Cook            \t 2044142.9917044085 \t 0\n",
      "Harris          \t 4413807.091733104 \t 0\n",
      "Miami           \t 9021037.888770834 \t 0\n",
      "LA              \t 21730316.096072465 \t 0\n",
      "SF              \t 15869701.778604556 \t 0\n",
      "Tulsa           \t 4556160.424671883 \t 0\n",
      "Milwaukee       \t 1587721.865093697 \t 0\n",
      "Fargo           \t 6806332.186358199 \t 0\n",
      "Boston          \t 15592801.247122241 \t 0\n",
      "Kansas_city     \t 2889027.289944852 \t 0\n",
      "Phoenix         \t 13984776.279203761 \t 0\n"
     ]
    }
   ],
   "source": [
    "idx = index.Index() # rtree index intialization\n",
    "for bbox in bboxes:\n",
    "        df = pd.read_csv('gowalla'+bbox.name)\n",
    "        i = 0\n",
    "        coord_pairs = [(i,j) for i,j in zip(df.iloc[:, 2].values,df.iloc[:, 3].values)]\n",
    "        for coord in coord_pairs:\n",
    "            i+=1\n",
    "            idx.insert(i,coord)\n",
    "            \n",
    "#         assert len(df) == idx.count((bbox.lat_min, bbox.lon_min, bbox.lat_max, bbox.lon_max))\n",
    "        \n",
    "        cum_nn1_dist = 0 \n",
    "        cum_nn2_dist = 0\n",
    "        for coord in coord_pairs:\n",
    "            nns_ids = list(idx.nearest(coord, 2))\n",
    "            try:\n",
    "                nn_1 = coord_pairs[nns_ids[1]]\n",
    "#             nn_2 = coord_pairs[nns_ids[2]]\n",
    "#                 print(nn_1)\n",
    "                cum_nn1_dist += dist_in_kmeters(coord[0], coord[1], nn_1[0], nn_1[1])\n",
    "#             cum_nn2_dist += dist_in_kmeters(coord[0], coord[1], nn_2[0], nn_2[1])\n",
    "            except:\n",
    "                continue\n",
    "        cum_nn1_dist = cum_nn1_dist / len(df)\n",
    "#         cum_nn2_dist = cum_nn2_dist / len(df)\n",
    "        print(\"{0:<15}\".format(bbox.name), '\\t',cum_nn1_dist, '\\t', cum_nn2_dist)\n",
    "#             break\n",
    "#         break\n",
    "#         for i in range(len(df)): \n",
    "#             idx.insert(i, (non_unif_qs2[i][0],non_unif_qs2[i][1]))\n"
   ]
  },
  {
   "cell_type": "code",
   "execution_count": null,
   "metadata": {},
   "outputs": [],
   "source": []
  },
  {
   "cell_type": "code",
   "execution_count": null,
   "metadata": {},
   "outputs": [],
   "source": []
  }
 ],
 "metadata": {
  "kernelspec": {
   "display_name": "Python 3",
   "language": "python",
   "name": "python3"
  },
  "language_info": {
   "codemirror_mode": {
    "name": "ipython",
    "version": 3
   },
   "file_extension": ".py",
   "mimetype": "text/x-python",
   "name": "python",
   "nbconvert_exporter": "python",
   "pygments_lexer": "ipython3",
   "version": "3.8.3"
  }
 },
 "nbformat": 4,
 "nbformat_minor": 4
}
